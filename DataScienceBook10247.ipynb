{
 "cells": [
  {
   "cell_type": "code",
   "execution_count": 1,
   "id": "409fc3bd",
   "metadata": {},
   "outputs": [
    {
     "data": {
      "text/plain": [
       "2"
      ]
     },
     "execution_count": 1,
     "metadata": {},
     "output_type": "execute_result"
    }
   ],
   "source": [
    "1+1"
   ]
  },
  {
   "cell_type": "code",
   "execution_count": 2,
   "id": "0ebe3169",
   "metadata": {},
   "outputs": [
    {
     "data": {
      "text/plain": [
       "[4, 3, 4]"
      ]
     },
     "execution_count": 2,
     "metadata": {},
     "output_type": "execute_result"
    }
   ],
   "source": [
    "names = [\"spam\",\"ham\",\"eggs\"]\n",
    "lens =[]\n",
    "for name in names:\n",
    "    lens.append(len(name))\n",
    "lens"
   ]
  },
  {
   "cell_type": "code",
   "execution_count": 3,
   "id": "930467a2",
   "metadata": {},
   "outputs": [
    {
     "data": {
      "text/plain": [
       "[[(0, 0), (0, 4), (0, 16), (0, 36), (0, 64)],\n",
       " [(1, 0), (1, 4), (1, 16), (1, 36), (1, 64)],\n",
       " [(2, 0), (2, 4), (2, 16), (2, 36), (2, 64)]]"
      ]
     },
     "execution_count": 3,
     "metadata": {},
     "output_type": "execute_result"
    }
   ],
   "source": [
    "[[(y,x**2) for x in range(10) if x % 2 == 0 ] for y in range(3)]"
   ]
  },
  {
   "cell_type": "code",
   "execution_count": 5,
   "id": "a52c0420",
   "metadata": {},
   "outputs": [
    {
     "data": {
      "text/plain": [
       "datetime.datetime(2022, 6, 5, 3, 33, 44, 467953)"
      ]
     },
     "execution_count": 5,
     "metadata": {},
     "output_type": "execute_result"
    }
   ],
   "source": [
    "from datetime import datetime, date\n",
    "datetime.now()"
   ]
  },
  {
   "cell_type": "code",
   "execution_count": 7,
   "id": "f5bea10a",
   "metadata": {},
   "outputs": [
    {
     "data": {
      "text/plain": [
       "datetime.datetime(2018, 7, 11, 0, 0)"
      ]
     },
     "execution_count": 7,
     "metadata": {},
     "output_type": "execute_result"
    }
   ],
   "source": [
    "datetime.strptime( \"2018年7月11日\" , \"%Y年%m月%d日\")"
   ]
  },
  {
   "cell_type": "code",
   "execution_count": 9,
   "id": "204342c6",
   "metadata": {},
   "outputs": [
    {
     "name": "stdout",
     "output_type": "stream",
     "text": [
      "464 µs ± 32.1 µs per loop (mean ± std. dev. of 10 runs, 1,000 loops each)\n"
     ]
    }
   ],
   "source": [
    "%timeit -n 1000 -r 10 [x*x for x in range(10000)]"
   ]
  },
  {
   "cell_type": "code",
   "execution_count": 10,
   "id": "3bc0b03d",
   "metadata": {},
   "outputs": [
    {
     "name": "stdout",
     "output_type": "stream",
     "text": [
      "708 µs ± 40.9 µs per loop (mean ± std. dev. of 10 runs, 1,000 loops each)\n"
     ]
    }
   ],
   "source": [
    "%%timeit -n 1000 -r 10\n",
    "ret = []\n",
    "for x in range(10000):\n",
    "    ret.append(x*x)"
   ]
  },
  {
   "cell_type": "code",
   "execution_count": 11,
   "id": "6127e378",
   "metadata": {},
   "outputs": [
    {
     "name": "stdout",
     "output_type": "stream",
     "text": [
      "Package              Version\n",
      "-------------------- -----------\n",
      "argon2-cffi          21.3.0\n",
      "argon2-cffi-bindings 21.2.0\n",
      "asttokens            2.0.5\n",
      "attrs                21.4.0\n",
      "backcall             0.2.0\n",
      "beautifulsoup4       4.11.1\n",
      "bleach               5.0.0\n",
      "cffi                 1.15.0\n",
      "colorama             0.4.4\n",
      "debugpy              1.6.0\n",
      "decorator            5.1.1\n",
      "defusedxml           0.7.1\n",
      "entrypoints          0.4\n",
      "executing            0.8.3\n",
      "fastjsonschema       2.15.3\n",
      "flake8               4.0.1\n",
      "ipykernel            6.13.0\n",
      "ipython              8.4.0\n",
      "ipython-genutils     0.2.0\n",
      "ipywidgets           7.7.0\n",
      "jedi                 0.18.1\n",
      "Jinja2               3.1.2\n",
      "jsonschema           4.6.0\n",
      "jupyter              1.0.0\n",
      "jupyter-client       7.3.1\n",
      "jupyter-console      6.4.3\n",
      "jupyter-core         4.10.0\n",
      "jupyterlab-pygments  0.2.2\n",
      "jupyterlab-widgets   1.1.0\n",
      "MarkupSafe           2.1.1\n",
      "matplotlib-inline    0.1.3\n",
      "mccabe               0.6.1\n",
      "mistune              0.8.4\n",
      "nbclient             0.6.4\n",
      "nbconvert            6.5.0\n",
      "nbformat             5.4.0\n",
      "nest-asyncio         1.5.5\n",
      "notebook             6.4.11\n",
      "packaging            21.3\n",
      "pandocfilters        1.5.0\n",
      "parso                0.8.3\n",
      "pickleshare          0.7.5\n",
      "pip                  22.1.2\n",
      "prometheus-client    0.14.1\n",
      "prompt-toolkit       3.0.29\n",
      "psutil               5.9.1\n",
      "pure-eval            0.2.2\n",
      "pycodestyle          2.8.0\n",
      "pycparser            2.21\n",
      "pyflakes             2.4.0\n",
      "Pygments             2.12.0\n",
      "pyparsing            3.0.9\n",
      "pyrsistent           0.18.1\n",
      "python-dateutil      2.8.2\n",
      "pywin32              304\n",
      "pywinpty             2.0.5\n",
      "pyzmq                23.1.0\n",
      "qtconsole            5.3.0\n",
      "QtPy                 2.1.0\n",
      "Send2Trash           1.8.0\n",
      "setuptools           58.1.0\n",
      "six                  1.16.0\n",
      "soupsieve            2.3.2.post1\n",
      "stack-data           0.2.0\n",
      "terminado            0.15.0\n",
      "tinycss2             1.1.1\n",
      "tornado              6.1\n",
      "traitlets            5.2.2.post1\n",
      "wcwidth              0.2.5\n",
      "webencodings         0.5.1\n",
      "widgetsnbextension   3.6.0\n"
     ]
    }
   ],
   "source": [
    "!pip list"
   ]
  },
  {
   "cell_type": "code",
   "execution_count": null,
   "id": "6cc33554",
   "metadata": {},
   "outputs": [],
   "source": []
  }
 ],
 "metadata": {
  "kernelspec": {
   "display_name": "Python 3 (ipykernel)",
   "language": "python",
   "name": "python3"
  },
  "language_info": {
   "codemirror_mode": {
    "name": "ipython",
    "version": 3
   },
   "file_extension": ".py",
   "mimetype": "text/x-python",
   "name": "python",
   "nbconvert_exporter": "python",
   "pygments_lexer": "ipython3",
   "version": "3.10.1"
  }
 },
 "nbformat": 4,
 "nbformat_minor": 5
}
